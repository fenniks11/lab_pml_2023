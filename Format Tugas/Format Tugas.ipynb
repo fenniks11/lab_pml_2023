{
 "cells": [
  {
   "cell_type": "markdown",
   "metadata": {},
   "source": [
    "# Format Tugas\n",
    "1. Download file **format_tugas.docs**\n",
    "2. Dikumpul di [klik di sini](https://forms.gle/bTvgbeg3WUGASVuXA).\n",
    "\n",
    "## Cara pengerjaan tugas\n",
    "1. Isi nama dan NIM\n",
    "2. Pada bagian **TUGAS X LAB PML** diisi dengan nomor tugas yang ke berapa.\n",
    "    Contoh:\n",
    "- TUGAS 1 LAB PML\n",
    "3. Masukkan trip\n",
    "4. Masukkan tanggal pengerjaan \n",
    "5. Kerjakan perhitungan dari soal. Jika ditulis tangan, pastikan tulisan jelas dan mudah dibaca. Jika di ketik, masukkan dalam bentuk tabel atau screenshot dan masukkan ke file.\n",
    "6. Buatlah kode program menggunakan bahasa pemrograman Python dari soal yang sudah dikerjakan. Buat dalam bentuk fungsi. Nama fungsi harus jelas.\n",
    "7. Screenshot potongan kode dari file.ipynb dimana kalian mengerjakan tugas, lalu masukkan ke dalam file **format_tugas.docs**.\n",
    "8. Jelaskan setiap potongan kode dengan *font* **Arial** dan *font size* 11 .\n",
    "9. Simpan tugas dalam bentuk .pdf, dengan format:\n",
    "- NIM_Nama_LabPML_Pertemuan1.pdf\n",
    "\n",
    "## Sanksi\n",
    "1. Dilarang copy & paste tugas! Kalau ketahuan maka setiap orang yang file-nya terindikasi mencontek, nilainya akan dianggap 0.\n",
    "2. Perhatikan setiap ketentuan pada **Cara Pengerjaan Tugas**. Apabila ada poin yang tidak sesuai, maka nilai akan dikurangi 5 poin.\n"
   ]
  },
  {
   "cell_type": "markdown",
   "metadata": {},
   "source": []
  }
 ],
 "metadata": {
  "language_info": {
   "name": "python"
  },
  "orig_nbformat": 4
 },
 "nbformat": 4,
 "nbformat_minor": 2
}
