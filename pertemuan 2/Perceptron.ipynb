{
 "cells": [
  {
   "cell_type": "markdown",
   "metadata": {},
   "source": [
    "# Perceptron Model"
   ]
  },
  {
   "cell_type": "markdown",
   "metadata": {},
   "source": [
    "##  Definition\n",
    "### Perceptron sebagai model dasar jaringan syaraf tiruan (JST)\n",
    "- Perceptron adalah salah satu model dasar dalam jaringan syaraf tiruan.\n",
    "- JST adalah sistem pengolahan informasi yang terinspirasi oleh struktur dan fungsi jaringan syaraf biologis. \n",
    "- Perceptron adalah bentuk paling sederhana dari JST, terdiri dari satu neuron dengan bobot sinaptik yang diatur menggunakan fungsi aktivasi batas keras\n",
    "-  Dalam JST yang lebih kompleks, seperti JST multilayer perceptron, perceptron digunakan sebagai unit dasar untuk membangun lapisan-lapisan neuron yang saling terhubung"
   ]
  },
  {
   "cell_type": "markdown",
   "metadata": {},
   "source": [
    "Beberapa contoh penerapan perceptron dalam berbagai bidang adalah:\n",
    "- **Prediksi jumlah mahasiswa pada perguruan tinggi**: STMIK Triguna Dharma menggunakan metode perceptron untuk menganalisis data dan memprediksi jumlah mahasiswa\n",
    "- **Diagnosa penyakit pada hewan**: Klinik Sasmita Pet Shop menggunakan jaringan saraf tiruan multi-layer perceptron untuk mendiagnosa penyakit panleukopenia pada kucing\n",
    "- **Pengenalan tanda tangan**: Metode perceptron dan backpropagation digunakan untuk mengenali pola tanda tangan dalam pengolahan citra digital\n",
    "- **Infeksi mata**: Jaringan saraf tiruan multi-layer perceptron digunakan untuk mendiagnosa infeksi mata seperti konjungtivitis\n",
    "- **Sistem penyiraman otomatis tanaman**: Jaringan saraf tiruan multi-layer perceptron digunakan dalam sistem penyiraman otomatis tanaman untuk mengontrol penyiraman berdasarkan kondisi tanah, cuaca, dan suhu"
   ]
  },
  {
   "cell_type": "markdown",
   "metadata": {},
   "source": [
    "## Analogi Sederhana dari Model Perceptron\n",
    "Seorang anak diberikan 2 bola berwarna merah dan biru. Ia diminta untuk menunjuk manakah bola yang berwarna merah dan bola berwarna biru. Tiap kali ia menebak warna dari bola yang terlihat lebih merah sebagai bola merah walaupun ia tidak yakin apakah itu benar merah atau bukan, maka ia akan mencatat apa hasil koreksi yang benar terhadap jawabannya. Proses ini berkali-kali terjadi, hingga anak tersebut berhasil mengenali manakah bola berwarna merah dan biru."
   ]
  },
  {
   "cell_type": "markdown",
   "metadata": {},
   "source": [
    "## Contoh Soal\n",
    "### Buatlah model Perceptron untuk mengenali fungsi logika **\"AND\"** dengan masukan dan keluaran dalam bentuk bipolar. Gunakan nilai bobot(w) dan bias(b) = 0, nilai learning rate = 1 dan treshold = 0"
   ]
  },
  {
   "cell_type": "markdown",
   "metadata": {},
   "source": [
    "## Tahapan Penghitungan\n",
    "\n",
    "1. **Inisialisasi Bobot dan Bias Awal:**\n",
    "   - Inisialisasi bobot w dan bias b dengan nilai awal 0.\n",
    "     - w = [0.0, 0.0]\n",
    "     - b = 0.0\n",
    "\n",
    "2. **Inisialisasi Parameter:**\n",
    "   - Set learning rate (laju pembelajaran) dan threshold dengan nilai yang telah ditentukan:\n",
    "     - learning_rate = 1.0\n",
    "     - threshold = 0.0\n",
    "\n",
    "3. **Inisialisasi Data Latih:**\n",
    "   - Siapkan data latih (X) dan target keluaran (y) yang sesuai dengan logika AND bipolar:\n",
    "     - X = [[1.0, 1.0], [1.0, -1.0], [-1.0, 1.0], [-1.0, -1.0]]\n",
    "     - y = [1.0, -1.0, -1.0, -1.0]\n",
    "\n",
    "4. **Pelatihan Model Perceptron:**\n",
    "   - Lakukan pelatihan model pada perceptron selama jumlah iterasi yang telah ditentukan (epochs).\n",
    "     - Misalnya, epochs = 100.\n",
    "\n",
    "5. **Iterasi Epoch:**\n",
    "   - Pada setiap iterasi epoch, ulangi langkah-langkah berikut:\n",
    "     - Set jumlah data yang benar diidentifikasi dalam satu epoch (epoch_correct) menjadi 0.\n",
    "\n",
    "6. **Iterasi Data Latih:**\n",
    "   - Untuk setiap data latih (i) dalam set data latih (X), lakukan hal berikut:\n",
    "     - Hitung net input (net_input) menggunakan rumus:\n",
    "       - net_input = b + (X[i][0] * w[0] + X[i][1] * w[1])\n",
    "     - Hitung output (output) dengan mengirimkan net_input ke fungsi aktivasi bipolar:\n",
    "       - output = bipolar_in_out(net_input)\n",
    "\n",
    "7. **Perhitungan Delta dan Pembaruan Bobot dan Bias:**\n",
    "   - Jika output tidak sama dengan target keluaran (y), lakukan hal berikut:\n",
    "     - Hitung delta w1, delta w2, dan delta b dengan rumus:\n",
    "       - delta_w1 = X[i][0] * y[i]\n",
    "       - delta_w2 = X[i][1] * y[i]\n",
    "       - delta_b = 1.0 * y[i]\n",
    "     - Update bobot w dan bias b:\n",
    "       - w[0] = w[0] + learning_rate * delta_w1\n",
    "       - w[1] = w[1] + learning_rate * delta_w2\n",
    "       - b = b + learning_rate * delta_b\n",
    "   - Jika output sama dengan target keluaran, set nilai delta w1, delta w2, dan delta b menjadi 0:\n",
    "     - delta_w1 = 0\n",
    "     - delta_w2 = 0\n",
    "     - delta_b = 0\n",
    "\n",
    "8. **Pengecekan Kepatihan:**\n",
    "   - Periksa apakah output benar-benar sama dengan target keluaran. Jika iya, tambahkan ke epoch_correct.\n",
    "\n",
    "9. **Cetak Output Setelah Setiap Epoch:**\n",
    "   - Cetak jumlah data yang benar diidentifikasi dalam satu epoch.\n",
    "\n",
    "10. **Keluar dari Loop Pelatihan:**\n",
    "    - Jika semua data latih telah benar diidentifikasi, keluar dari loop pelatihan (break).\n",
    "\n",
    "11. **Pesan Jika Ada Kesalahan Identifikasi:**\n",
    "    - Jika setelah semua epoch data latih masih ada yang salah diidentifikasi, cetak pesan bahwa model tidak dapat mempelajari logika AND dengan parameter yang diberikan.\n",
    "\n",
    "12. **Uji Model Perceptron:**\n",
    "    - Setelah pelatihan selesai, uji model perceptron dengan data uji yang telah ditentukan:\n",
    "      - Misalnya, test_data = [[1.0, 1.0], [1.0, -1.0], [-1.0, 1.0], [-1.0, -1.0]].\n",
    "\n",
    "13. **Cetak Hasil Uji Model:**\n",
    "    - Cetak hasil output model perceptron untuk setiap data uji."
   ]
  },
  {
   "cell_type": "markdown",
   "metadata": {},
   "source": [
    "<center>\n",
    "<img src=\"https://i.ibb.co/VMNx8JD/perceptron-and.jpg\" alt=\"perceptron-and\" border=\"0\" width=\"500px\">\n",
    "</center>"
   ]
  },
  {
   "cell_type": "code",
   "execution_count": 15,
   "metadata": {},
   "outputs": [
    {
     "name": "stdout",
     "output_type": "stream",
     "text": [
      "Epoch 1: Jumlah data yang benar diidentifikasi = 3\n",
      "Epoch 2: Jumlah data yang benar diidentifikasi = 4\n",
      "Epoch 2: Semua data latih benar diidentifikasi\n",
      "Input: [1. 1.], Output: 1\n",
      "Input: [ 1. -1.], Output: -1\n",
      "Input: [-1.  1.], Output: -1\n",
      "Input: [-1. -1.], Output: -1\n"
     ]
    }
   ],
   "source": [
    "import numpy as np\n",
    "\n",
    "# Fungsi aktivasi bipolar\n",
    "def bipolar_in_out(x):\n",
    "    return 1 if x >= 0 else -1\n",
    "\n",
    "# Inisialisasi bobot, bias, learning rate, dan threshold\n",
    "w = np.array([0.0, 0.0])  # Bobot\n",
    "b = 0.0                   # Bias\n",
    "learning_rate = 1.0       # Learning Rate\n",
    "threshold = 0.0           # Threshold\n",
    "\n",
    "# Data latih untuk logika AND bipolar\n",
    "X = np.array([[1.0, 1.0], [1.0, -1.0], [-1.0, 1.0], [-1.0, -1.0]])\n",
    "y = np.array([1.0, -1.0, -1.0, -1.0])  # Output bipolar sesuai dengan logika AND\n",
    "\n",
    "# Pelatihan model perceptron\n",
    "epochs = 100  # Jumlah iterasi pelatihan\n",
    "\n",
    "for epoch in range(epochs):\n",
    "    epoch_correct = 1  # Reset jumlah data yang benar diidentifikasi pada awal setiap epoch\n",
    "    for i in range(len(X)):\n",
    "        input_data = X[i]\n",
    "        target_output = y[i]\n",
    "\n",
    "        # Perhitungan output\n",
    "        net_input = b + np.dot(input_data, w)  # Hitung net input (b + sum(X_i * w_i))\n",
    "        output = bipolar_in_out(net_input)\n",
    "\n",
    "        # Update bobot dan bias jika output tidak sama dengan target\n",
    "        if output != target_output:\n",
    "            # Perhitungan delta w1, delta w2, dan delta b\n",
    "            delta_w1 = input_data[0] * target_output\n",
    "            delta_w2 = input_data[1] * target_output\n",
    "            delta_b = 1.0 * target_output  # Nilai bias tiap input = 1\n",
    "            w[0] = w[0] +  delta_w1\n",
    "            w[1] = w[1] + delta_w2\n",
    "            b = b +  delta_b\n",
    "        else:\n",
    "            delta_w1 = 0\n",
    "            delta_w2 = 0\n",
    "            delta_b = 0\n",
    "        # Periksa apakah output benar\n",
    "        if output == target_output:\n",
    "            epoch_correct += 1\n",
    "\n",
    "    # Cetak output setelah setiap epoch\n",
    "    print(f\"Epoch {epoch + 1}: Jumlah data yang benar diidentifikasi = {epoch_correct}\")\n",
    "\n",
    "    # Jika semua data latih benar diidentifikasi, keluar dari loop pelatihan\n",
    "    if epoch_correct == len(X):\n",
    "        print(f\"Epoch {epoch + 1}: Semua data latih benar diidentifikasi\")\n",
    "        break\n",
    "\n",
    "# Jika setelah semua epoch data latih masih ada yang salah diidentifikasi, cetak pesan\n",
    "if epoch_correct != len(X):\n",
    "    print(\"Model tidak dapat mempelajari logika AND dengan parameter yang diberikan\")\n",
    "\n",
    "# Uji model perceptron\n",
    "test_data = np.array([[1.0, 1.0], [1.0, -1.0], [-1.0, 1.0], [-1.0, -1.0]])\n",
    "\n",
    "for i in range(len(test_data)):\n",
    "    input_data = test_data[i]\n",
    "    net_input = b + np.dot(input_data, w)  # Hitung net input (b + sum(X_i * w_i))\n",
    "    output = bipolar_in_out(net_input)\n",
    "\n",
    "    print(f\"Input: {input_data}, Output: {output}\")\n"
   ]
  },
  {
   "cell_type": "markdown",
   "metadata": {},
   "source": [
    "**Hasil perhitungan dan kode program sama-sama berhenti diepoch ke-2. Pada epoch ke-2, pola logika AND berhasil dikenali dengan menggunakan perceptron.**"
   ]
  }
 ],
 "metadata": {
  "kernelspec": {
   "display_name": "Python 3",
   "language": "python",
   "name": "python3"
  },
  "language_info": {
   "codemirror_mode": {
    "name": "ipython",
    "version": 3
   },
   "file_extension": ".py",
   "mimetype": "text/x-python",
   "name": "python",
   "nbconvert_exporter": "python",
   "pygments_lexer": "ipython3",
   "version": "3.10.8"
  },
  "orig_nbformat": 4
 },
 "nbformat": 4,
 "nbformat_minor": 2
}
