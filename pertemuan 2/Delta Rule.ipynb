{
 "cells": [
  {
   "cell_type": "markdown",
   "metadata": {},
   "source": [
    "# Delta Rule"
   ]
  },
  {
   "cell_type": "markdown",
   "metadata": {},
   "source": [
    "## Definition \n",
    "- Dikenal dengan nama pembelajaran Delta(Aturan Widrow-Hoff).\n",
    "- Memperbaharui bobot dalam jaringan syaraf tiruan berbasis perceptron.\n",
    "- Merupakan supervised learning(pembelajaran terawasi).\n",
    "- Digunakan untuk mengoptimalkan kinerja JST dengan meminimalkan kesalahan prediksi(error) antara output yang dihasilkan jaringan dengan output sebenarnya."
   ]
  },
  {
   "cell_type": "markdown",
   "metadata": {},
   "source": [
    "## Analogi Sederhana\n",
    "Bayangkan kamu sedang bermain dengan balon di taman. Setiap kali kamu melempar balon ke atas, kamu mencoba menangkapnya dengan tanganmu. Jika kamu berhasil menangkap balon, berarti kamu melakukan pekerjaan yang baik dan kamu akan mendapatkan poin. Tapi jika kamu gagal menangkap balon, berarti kamu perlu berlatih lebih keras.  \n",
    "\n",
    "Dalam hal ini, balon yang kamu lempar adalah **masukan (input)** ke dalam jaringan saraf tiruan, tanganmu adalah **neuron**, dan poin yang kamu dapatkan adalah **keluaran (output)** dari neuron. Delta rule bekerja seperti aturan yang memberitahumu bagaimana kamu harus mengubah cara menangkap balon agar lebih baik.  \n",
    "\n",
    "Misalnya, jika kamu melempar balon terlalu kuat dan sulit untuk ditangkap, kamu perlu mengubah cara menangkapnya dengan lebih lembut. Ini adalah analogi untuk **mengubah bobot (weight)** dari neuron agar keluarannya lebih dekat dengan yang diharapkan.  \n",
    "\n",
    "Dengan berlatih dan menggunakan delta rule, kamu akan menjadi ahli dalam menangkap balon dengan tanganmu. Demikian pula, jaringan saraf tiruan akan belajar dan menjadi lebih baik dalam memproses informasi dengan menggunakan delta rule."
   ]
  },
  {
   "cell_type": "markdown",
   "metadata": {},
   "source": [
    "# Contoh Soal \n",
    "### Berikan gambaran jaringan syaraf tiruan untuk melakukan pembelajaran terhadap fungsi logika OR dengan input dan output biner. Dengan threshold = 0.5, learning rate = 0.2. Lalu bobot awal(w1) adalah 0.1, dan bobot kedua(w2) = 0.3. "
   ]
  },
  {
   "cell_type": "markdown",
   "metadata": {},
   "source": [
    "## Tahapan Perhitungan  \n",
    "\n",
    "1. **Inisialisasi Parameter:**\n",
    "   - Threshold (ambang batas): `threshold = 0.5`\n",
    "     - Ini adalah nilai yang digunakan untuk menentukan apakah hasil dari jaringan syaraf kita adalah 0 atau 1.\n",
    "   - Learning Rate (laju pembelajaran): `learning_rate = 0.2`\n",
    "     - Ini adalah seberapa besar langkah yang diambil saat memperbarui bobot berdasarkan kesalahan.\n",
    "   - Bobot Awal: `W1 = 0.1` dan `W2 = 0.3`\n",
    "     - Inilah bobot awal yang digunakan oleh jaringan syaraf.\n",
    "\n",
    "2. **Data Latih:**\n",
    "   - Data latih kita adalah kombinasi input logika OR:\n",
    "     - `X = [[0, 0], [0, 1], [1, 0], [1, 1]]`\n",
    "   - Target Output: `target_output = [0, 1, 1, 1]`\n",
    "     - Ini adalah hasil logika OR yang sesuai dengan input.\n",
    "\n",
    "3. **Jumlah Epoch:**\n",
    "   - Jumlah iterasi pelatihan: `epochs = 100`\n",
    "     - Ini adalah berapa kali kita akan melatih jaringan untuk memahami pola logika OR.\n",
    "\n",
    "4. **Pelatihan Jaringan Syaraf:**\n",
    "   - Pada setiap iterasi (epoch), kita mengulangi langkah-langkah berikut:\n",
    "\n",
    "5. **Iterasi Data Latih:**\n",
    "   - Untuk setiap pasangan input-output dalam data latih:\n",
    "     - Kita menghitung nilai weighted input (y_in) menggunakan rumus:\n",
    "       - `y_in = input_data[0] * W1 + input_data[1] * W2`\n",
    "       - Ini adalah hasil perkalian bobot dengan input.\n",
    "     - Selanjutnya, kita memasukkan y_in ke dalam fungsi aktivasi sederhana:\n",
    "       - Jika `y_in` kurang dari `threshold`, `y` (output) adalah 0.\n",
    "       - Jika tidak, `y` adalah 1.\n",
    "\n",
    "6. **Perhitungan Error (∂):**\n",
    "   - Kita menghitung delta (error) sebagai selisih antara target yang diharapkan dengan output aktual:\n",
    "     - `delta = target - y`\n",
    "     - Delta atau disimbolkan dengan **∂** adalah ukuran sejauh mana output jaringan berbeda dari target yang diharapkan.\n",
    "\n",
    "7. **Pembaruan Bobot:**\n",
    "   - Kita memperbarui bobot (W1 dan W2) berdasarkan delta (error) dengan langkah belajar yang telah ditentukan:\n",
    "     - `W1 = W1 + learning_rate * input_data[0] * delta`\n",
    "     - `W2 = W2 + learning_rate * input_data[1] * delta`\n",
    "     - Ini menggambarkan perubahan bobot berdasarkan seberapa besar kesalahan yang kita temukan.\n",
    "\n",
    "8. **Periksa Hasil Benar:**\n",
    "   - Kita memeriksa apakah output jaringan telah benar (sesuai dengan target) pada setiap iterasi.\n",
    "     - Jika `delta` adalah 0, maka output sudah benar, dan kita menambah jumlah data yang benar diidentifikasi dalam satu epoch.\n",
    "\n",
    "9. **Cetak Output Setiap Epoch:**\n",
    "   - Pada akhir setiap epoch, kita mencetak jumlah data yang benar diidentifikasi dalam satu epoch.\n",
    "\n",
    "10. **Keluar dari Loop Pelatihan:**\n",
    "    - Jika semua data latih telah benar diidentifikasi pada akhir epoch, kita keluar dari loop pelatihan.\n",
    "\n",
    "11. **Pesan Kesalahan Identifikasi:**\n",
    "    - Jika setelah semua epoch masih ada data latih yang salah diidentifikasi, kita mencetak pesan bahwa model tidak dapat mempelajari logika OR dengan parameter yang diberikan."
   ]
  },
  {
   "cell_type": "markdown",
   "metadata": {},
   "source": [
    "<center>\n",
    "<img src=\"https://i.ibb.co/tYysLMg/Delta-Rule.jpg\" alt=\"Delta-Rule\" border=\"0\" width=\"750px\">\n",
    "</center>"
   ]
  },
  {
   "cell_type": "code",
   "execution_count": 3,
   "metadata": {},
   "outputs": [
    {
     "name": "stdout",
     "output_type": "stream",
     "text": [
      "Epoch 1: Jumlah data yang benar diidentifikasi = 2\n",
      "Epoch 2: Jumlah data yang benar diidentifikasi = 3\n",
      "Epoch 3: Jumlah data yang benar diidentifikasi = 4\n",
      "Epoch 3: Semua data latih benar diidentifikasi\n"
     ]
    }
   ],
   "source": [
    "# Inisialisasi threshold, learning rate, W1, dan W2\n",
    "threshold = 0.5\n",
    "learning_rate = 0.2\n",
    "W1 = 0.1\n",
    "W2 = 0.3\n",
    "\n",
    "# Data latih untuk logika OR\n",
    "X = [[0, 0], [0, 1], [1, 0], [1, 1]]\n",
    "target_output = [0, 1, 1, 1]\n",
    "\n",
    "# Jumlah epoch\n",
    "epochs = 100\n",
    "\n",
    "for epoch in range(epochs):\n",
    "    epoch_correct = 0  # Reset jumlah data yang benar diidentifikasi pada awal setiap epoch\n",
    "\n",
    "    for i in range(len(X)):\n",
    "        input_data = X[i]\n",
    "        target = target_output[i]\n",
    "\n",
    "        # Perhitungan y_in\n",
    "        y_in = input_data[0] * W1 + input_data[1] * W2\n",
    "\n",
    "        # Fungsi aktivasi\n",
    "        if y_in < threshold:\n",
    "            y = 0\n",
    "        else:\n",
    "            y = 1\n",
    "\n",
    "        # Perhitungan delta (error)\n",
    "        delta = target - y\n",
    "\n",
    "        # Update bobot W1 dan W2\n",
    "        W1 = W1 + learning_rate * input_data[0] * delta\n",
    "        W2 = W2 + learning_rate * input_data[1] * delta\n",
    "\n",
    "        # Periksa apakah output benar\n",
    "        if delta == 0:\n",
    "            epoch_correct += 1\n",
    "\n",
    "    # Cetak output setelah setiap epoch\n",
    "    print(f\"Epoch {epoch + 1}: Jumlah data yang benar diidentifikasi = {epoch_correct}\")\n",
    "\n",
    "    # Jika semua data latih benar diidentifikasi, keluar dari loop pelatihan\n",
    "    if epoch_correct == len(X):\n",
    "        print(f\"Epoch {epoch + 1}: Semua data latih benar diidentifikasi\")\n",
    "        break\n",
    "\n",
    "# Jika setelah semua epoch data latih masih ada yang salah diidentifikasi, cetak pesan\n",
    "if epoch_correct != len(X):\n",
    "    print(\"Model tidak dapat mempelajari logika OR dengan parameter yang diberikan\")\n"
   ]
  },
  {
   "cell_type": "code",
   "execution_count": null,
   "metadata": {},
   "outputs": [],
   "source": []
  }
 ],
 "metadata": {
  "kernelspec": {
   "display_name": "Python 3",
   "language": "python",
   "name": "python3"
  },
  "language_info": {
   "codemirror_mode": {
    "name": "ipython",
    "version": 3
   },
   "file_extension": ".py",
   "mimetype": "text/x-python",
   "name": "python",
   "nbconvert_exporter": "python",
   "pygments_lexer": "ipython3",
   "version": "3.10.8"
  },
  "orig_nbformat": 4
 },
 "nbformat": 4,
 "nbformat_minor": 2
}
