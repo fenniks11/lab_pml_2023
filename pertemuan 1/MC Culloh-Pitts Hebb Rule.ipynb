{
 "cells": [
  {
   "cell_type": "markdown",
   "metadata": {},
   "source": [
    "# AI, ML, DL\n",
    "<center>\n",
    "<img src=\"https://www.bengkelti.com/wp-content/uploads/2021/12/aimldl-e1638554697768.png\" width=40%>\n",
    "</center>"
   ]
  },
  {
   "cell_type": "markdown",
   "metadata": {},
   "source": [
    "- <b>Artificial Intelligence (AI)</b> berhubungan dengan \"pembuatan\" mesin yang dapat mengerjakan pekerjaan manusia.\n",
    "\n",
    "- <b>Machine Learning (ML)</b> merupakan ilmu yang mempelajari algoritma dan model statistik untuk menyelesaikan masalah dengan proses pengambilan keputusan, tanpa instruksi/diprogram secara langsung.\n",
    "<center>\n",
    "<img src=\"https://i.ibb.co/b6tLG7p/image.png\">\n",
    "</center>\n",
    "\n",
    "- <b>Deep Learning (DL)</b> merupakan ilmu yang didasari oleh cara sel otak (neuron) manusia bekerja, dimana input ke model memerlukan data yang sangat banyak, dan output dari sebuah neuron menjadi input bagi neuron-neuron lainnya di lapisan berikutnya, hingga membentuk hasil di output layer. Proses akan berulang untuk membentuk jaringan yang mampu mempelajari data.\n",
    "<center>\n",
    "<img src=\"https://miro.medium.com/max/1400/1*Da7wVx5j1KcSJ-I4DVFZyQ.png\"width=\"650px\">\n",
    "</center>\n",
    "\n",
    "Secara singkat, **AI adalah ide konseptual, ML adalah salah satu teknik dalam AI, dan DL adalah teknik dalam ML yang khusus digunakan untuk pemrosesan data kompleks dengan menggunakan jaringan saraf tiruan yang dalam.**"
   ]
  },
  {
   "cell_type": "markdown",
   "metadata": {},
   "source": [
    "# Jenis-jenis Machine Learning(ML)\n",
    "- Supervised Learning\n",
    "- Unsupervised Learning\n",
    "- Reinforcement Learning\n"
   ]
  },
  {
   "cell_type": "markdown",
   "metadata": {},
   "source": [
    "1. **Supervised Learning**\n",
    "\n",
    "Digunakan untuk mempelajari **data yang sudah terlabeli**.\n",
    "![Supervised Learning](https://i.ibb.co/vdVG7nk/image.png)\n",
    "Misalnya:\n",
    "- **Identifikasi**: Output biner / dua kelas (0 dan 1)\n",
    "- **Klasifikasi [Multiclass]**: Output lebih dari dua jenis kelas (0, 1, 2, 3, dst.)\n",
    "- **Klasifikasi Multilabel**: Jenis Label lebih dari satu jenis (KategoriA: 0/1, KategoriB: 0/1, dst.)\n",
    "- **Identifikasi/Klasifikasi Bertingkat**: Identifikasi/klasifikasi yang memiliki 2 tahap atau lebih.\n",
    "- **Prediksi**: Menentukan output dari satu/sekelompok data tanpa dipengaruhi output sebenarnya.\n"
   ]
  },
  {
   "cell_type": "markdown",
   "metadata": {},
   "source": [
    "## 2. Unsupervised Learning\n",
    "mesin memproses <b><u>data tanpa label</u></b> atau anotasi yang jelas.\n",
    "\n",
    "<img src=\"https://i.ibb.co/gF5fdGX/image.png\" align=\"left\" width=\"600px\">"
   ]
  },
  {
   "cell_type": "markdown",
   "metadata": {},
   "source": [
    "## 3. Reinforcement Learning\n",
    "\n",
    "Mesin harus bisa <b><u>belajar dari pengalaman dan feedback</u></b> (trial & error).\n",
    "\n",
    "<img src=\"https://i.ibb.co/FnnrM2d/image.png\" align=\"left\" width=\"500px\">"
   ]
  },
  {
   "cell_type": "markdown",
   "metadata": {},
   "source": [
    "# Convensional Programming VS Machine Learning\n",
    "<br>\n",
    "<img src=\"https://i.ibb.co/7YtjjXv/image.png\" align=\"left\" width=\"650px\">"
   ]
  },
  {
   "cell_type": "markdown",
   "metadata": {},
   "source": [
    "**Tidak semua masalah bisa diselesaikan dengan Machine Learning**, dan terkadang sebaiknya menggunakan pemrograman biasa. Misalnya penyortiran data, CRUD aplikasi, validasi formulir, dll.\n",
    "\n",
    "<b>Kapan menggunakan Machine Learning?</b>\n",
    "<ul>\n",
    "    <li>Saat sebuah masalah memiliki dataset yang besar dan variabel yang banyak.</li>\n",
    "    <li>Saat tidak memiliki prosedur yang jelas untuk menyelesaikan masalah.</li>\n",
    "</ul>\n",
    "\n",
    "Sistem berbasis Machine Learning yang akan dibangun kemungkinan besar sifatnya kompleks, sehingga diperlukan infrastruktur dan manajemen yang memadai, serta <b>melibatkan ahli di bidangnya</b>."
   ]
  },
  {
   "cell_type": "markdown",
   "metadata": {},
   "source": [
    "# McCulloch-Pitts Neuron Model"
   ]
  },
  {
   "cell_type": "markdown",
   "metadata": {},
   "source": [
    "## Definition\n",
    "Model awal yang digunakan untuk menggambarkan prinsip dasar dari jaringan saraf tiruan (neural networks)\n",
    "### Terinspirasi dari cara kerja neuron sistem saraf yang terdiri dari:\n",
    "<center>\n",
    "<img src='https://github.com/taruntiwarihp/raw_images/blob/master/DL1.png?raw=true' alt=\"Gambar Neuron Biologis\" />\n",
    "</center>\n",
    "\n",
    "*Fig—1 Biological Neuron—Padhai Deep Learning*\n",
    "\n",
    "- **Dendrit**: Komponen yang berfungsi menerima sinyal informasi dari satu atau beberapa neuron yang terhubung dengan neuron tersebut.\n",
    "- **Badan sel (soma)**: Komponen yang berfungsi melakukan proses komputasi sinyal input berbobot untuk menghasilkan sinyal output yang akan dikirimkan kepada neuron lain yang terhubung dengan neuron tersebut.\n",
    "- **Akson**: Komponen yang berfungsi mengirimkan sinyal output kepada neuron lain yang terhubung dengan neuron tersebut.\n",
    "- **Sinapsis**: Berfungsi dalam menghantarkan rangsangan dari satu sel saraf ke sel saraf lainnya\n",
    "\n",
    "Model neuron **McCulloch-Pitts (McCulloch & Pitts, 1943)** merupakan model logika ambang biner(0/1) yang mengambil beberapa input dan menghasilkan satu output. Model ini diperkenalkan oleh Warren McCulloch dan Walter Pitts pada tahun 1943 dan menjadi salah satu kontribusi awal dalam pengembangan jaringan saraf tiruan.\n"
   ]
  },
  {
   "cell_type": "markdown",
   "metadata": {},
   "source": [
    "## Komponen Utama\n",
    "Neuron McCulloch-Pitts memiliki beberapa komponen utama, yaitu:\n",
    "1. **Input**: Neuron McCulloch-Pitts menerima beberapa input yang dapat berupa nilai numerik atau nilai biner.\n",
    "2. **Bobot (weight)**: Setiap input pada neuron McCulloch-Pitts memiliki bobot yang menentukan seberapa besar pengaruh setiap input terhadap output.\n",
    "3. **Nilai ambang (threshold)**: Neuron McCulloch-Pitts memiliki nilai ambang tertentu yang menentukan kapan neuron akan meledak.\n",
    "4. **Fungsi aktivasi**: Fungsi aktivasi pada neuron McCulloch-Pitts adalah fungsi logika ambang biner yang menghasilkan output 0 atau 1 tergantung pada apakah jumlah input melebihi nilai ambang atau tidak.\n",
    "\n",
    "Model neuron McCulloch-Pitts dapat digunakan untuk membuat aktivasi jaringan saraf tiruan pada fungsi logika **AND, OR, dan XOR**.\n",
    "\n",
    "| Input A | Input B | AND | OR | XOR |\n",
    "|---------|---------|-----|----|-----|\n",
    "|   1     |   1     |  1  |  1 |  0  |\n",
    "|   1     |   0     |  0  |  1 |  1  |\n",
    "|   0     |   1     |  0  |  1 |  1  |\n",
    "|   0     |   0     |  0  |  0 |  0  |"
   ]
  },
  {
   "cell_type": "code",
   "execution_count": 17,
   "metadata": {},
   "outputs": [],
   "source": [
    "# Import library yang diperlukan\n",
    "import numpy as np"
   ]
  },
  {
   "cell_type": "code",
   "execution_count": 18,
   "metadata": {},
   "outputs": [
    {
     "name": "stdout",
     "output_type": "stream",
     "text": [
      "Output McP AND 1: 1\n",
      "Output McP AND 2: 0\n",
      "Output McP AND 3: 0\n",
      "Output McP AND 4: 0\n"
     ]
    }
   ],
   "source": [
    "def mcp_and(x1, x2):\n",
    "    # inisialisasi bobot\n",
    "    w1 = 1\n",
    "    w2 = 1\n",
    "    # hitung jumlah input\n",
    "    y_in = w1*x1 + w2*x2\n",
    "    # tentukan output\n",
    "    if y_in >= 2:\n",
    "        y_out = 1\n",
    "    else:\n",
    "        y_out = 0\n",
    "    return y_out\n",
    "\n",
    "# Memanggil fungsi mcculloch_pitts_and\n",
    "output_mcp_and_1 = mcp_and(1,1)\n",
    "output_mcp_and_2 = mcp_and(1,0)\n",
    "output_mcp_and_3 = mcp_and(0,1)\n",
    "output_mcp_and_4 = mcp_and(0,0)\n",
    "# Cetak output\n",
    "print(f'Output McP AND 1: {output_mcp_and_1}')\n",
    "print(f'Output McP AND 2: {output_mcp_and_2}')\n",
    "print(f'Output McP AND 3: {output_mcp_and_3}')\n",
    "print(f'Output McP AND 4: {output_mcp_and_4}')"
   ]
  },
  {
   "cell_type": "code",
   "execution_count": 19,
   "metadata": {},
   "outputs": [
    {
     "name": "stdout",
     "output_type": "stream",
     "text": [
      "Output McP OR 1: 1\n",
      "Output McP OR 2: 1\n",
      "Output McP OR 3: 1\n",
      "Output McP OR 4: 0\n"
     ]
    }
   ],
   "source": [
    "def mcp_or(x1, x2):\n",
    "    # inisialisasi bobot\n",
    "    w1 = 1\n",
    "    w2 = 1\n",
    "    # hitung jumlah input\n",
    "    y_in = w1*x1 + w2*x2\n",
    "    # tentukan output\n",
    "    if y_in >= 1:  # Mengubah kondisi ini dari >= 2 menjadi >= 1\n",
    "        y_out = 1\n",
    "    else:\n",
    "        y_out = 0\n",
    "    return y_out\n",
    "\n",
    "# Memanggil fungsi mcp_or\n",
    "output_mcp_or_1 = mcp_or(1, 1)\n",
    "output_mcp_or_2 = mcp_or(1, 0)\n",
    "output_mcp_or_3 = mcp_or(0, 1)\n",
    "output_mcp_or_4 = mcp_or(0, 0)\n",
    "# Cetak output\n",
    "print(f'Output McP OR 1: {output_mcp_or_1}')\n",
    "print(f'Output McP OR 2: {output_mcp_or_2}')\n",
    "print(f'Output McP OR 3: {output_mcp_or_3}')\n",
    "print(f'Output McP OR 4: {output_mcp_or_4}')\n"
   ]
  },
  {
   "cell_type": "code",
   "execution_count": 20,
   "metadata": {},
   "outputs": [
    {
     "name": "stdout",
     "output_type": "stream",
     "text": [
      "Logika XOR\n",
      "0\n",
      "1\n",
      "1\n",
      "0\n"
     ]
    }
   ],
   "source": [
    "import numpy as np\n",
    "\n",
    "# Fungsi McCulloch-Pitts untuk logika OR\n",
    "def mcculloch_pitts_or(inputs):\n",
    "    weights = np.array([1, 1])\n",
    "    threshold = 1\n",
    "    activation = np.sum(inputs * weights)\n",
    "    output = 1 if activation >= threshold else 0\n",
    "    return output\n",
    "\n",
    "# Fungsi McCulloch-Pitts untuk fungsi net pertama\n",
    "def f_net_1(x1, x2):\n",
    "    weight_x1 = 2\n",
    "    weight_x2 = -1\n",
    "    threshold = 2\n",
    "    activation = weight_x1 * x1 + weight_x2 * x2\n",
    "    return 1 if activation >= threshold else 0\n",
    "\n",
    "# Fungsi McCulloch-Pitts untuk fungsi net kedua\n",
    "def f_net_2(x1, x2):\n",
    "    weight_x1 = -1\n",
    "    weight_x2 = 2\n",
    "    threshold = 2\n",
    "    activation = weight_x1 * x1 + weight_x2 * x2\n",
    "    return 1 if activation >= threshold else 0\n",
    "\n",
    "# Mengkonversi hasil f_net_1 dan f_net_2 menjadi input baru z1 dan z2\n",
    "def convert_to_z(x1, x2):\n",
    "    z1 = f_net_1(x1, x2)\n",
    "    z2 = f_net_2(x1, x2)\n",
    "    return z1, z2\n",
    "\n",
    "# Mengimplementasikan model McCulloch-Pitts untuk logika XOR pada input z1 dan z2\n",
    "def mcculloch_pitts_xor(z1, z2):\n",
    "    inputs = np.array([z1, z2])  # Menggunakan hasil f_net_1 dan f_net_2 sebagai input\n",
    "    return mcculloch_pitts_or(inputs)  # Menggunakan fungsi logika OR yang telah didefinisikan sebelumnya\n",
    "\n",
    "# Contoh pengujian\n",
    "print(\"Logika XOR\")\n",
    "print(mcculloch_pitts_xor(*convert_to_z(0, 0)))  # Harusnya 0\n",
    "print(mcculloch_pitts_xor(*convert_to_z(0, 1)))  # Harusnya 1\n",
    "print(mcculloch_pitts_xor(*convert_to_z(1, 0)))  # Harusnya 1\n",
    "print(mcculloch_pitts_xor(*convert_to_z(1, 1)))  # Harusnya 0\n"
   ]
  },
  {
   "cell_type": "code",
   "execution_count": 21,
   "metadata": {},
   "outputs": [],
   "source": [
    "# menguraikan elemen dari sebuah tupel atau daftar sebagai argumen individual dalam pemanggilan fungsi\n",
    "# my_tuple = (0, 0)\n",
    "# result = my_function(*my_tuple)"
   ]
  },
  {
   "cell_type": "code",
   "execution_count": 22,
   "metadata": {},
   "outputs": [
    {
     "name": "stdout",
     "output_type": "stream",
     "text": [
      "0\n",
      "1\n",
      "0\n",
      "0\n"
     ]
    }
   ],
   "source": [
    "# Logika NOT\n",
    "def mcp_not_x2(x1, x2):\n",
    "    # Inisialisasi bobot\n",
    "    w1 = 2\n",
    "    w2 = -1\n",
    "    threshold = 2\n",
    "    # Hitung jumlah bobot\n",
    "    y_in = w1*x1 + w2*x2 \n",
    "    # Tentukan output\n",
    "    if y_in >= threshold:\n",
    "        y_out = 1\n",
    "    else:\n",
    "        y_out = 0 \n",
    "    return y_out\n",
    "print(mcp_not_x2(1, 1))  # Harusnya 0\n",
    "print(mcp_not_x2(1, 0))  # Harusnya 1\n",
    "print(mcp_not_x2(0, 1))  # Harusnya 0\n",
    "print(mcp_not_x2(0, 0))  # Harusnya 0"
   ]
  },
  {
   "cell_type": "markdown",
   "metadata": {},
   "source": [
    "# Hebb Rule"
   ]
  },
  {
   "cell_type": "markdown",
   "metadata": {},
   "source": [
    "## Definition\n",
    "Hebb Rule adalah aturan pembelajaran yang digunakan dalam jaringan saraf tiruan. Aturan ini mengatakan bahwa **jika dua sel saraf di otak seringkali diaktifkan secara bersamaan, maka koneksi antara kedua sel saraf tersebut akan menjadi lebih kuat**. Aturan ini ditemukan oleh Donald Hebb pada tahun 1949"
   ]
  },
  {
   "cell_type": "markdown",
   "metadata": {},
   "source": [
    "### Contoh Soal\n",
    "Buatlah jaringan Hebb untuk menyatakan fungsi logika AND jika representasi yang dipakai adalah\n",
    "\n",
    "- Masukan dan keluaran biner\n",
    "- Masukan biner dan keluaran bipolar\n",
    "- Masukan dan keluaran bipolar"
   ]
  },
  {
   "cell_type": "code",
   "execution_count": 23,
   "metadata": {},
   "outputs": [
    {
     "name": "stdout",
     "output_type": "stream",
     "text": [
      "Input: 0 0 Output: 1\n",
      "Input: 0 1 Output: 1\n",
      "Input: 1 0 Output: 1\n",
      "Input: 1 1 Output: 1\n"
     ]
    }
   ],
   "source": [
    "def biner_in_out(data):\n",
    "    # Inisialisasi bobot\n",
    "    w1 = 0\n",
    "    w2 = 0\n",
    "    b = 0\n",
    "\n",
    "    # Pelatihan jaringan\n",
    "    for d in data:\n",
    "        x1 = d[0]\n",
    "        x2 = d[1]\n",
    "        t = d[2]\n",
    "        delta_w1 = x1*t\n",
    "        delta_w2 = x2*t\n",
    "        delta_b = 1*t\n",
    "        w1 = w1 + delta_w1\n",
    "        w2 = w2 + delta_w2\n",
    "        b = b + delta_b\n",
    "\n",
    "    # Pengujian jaringan\n",
    "    for d in data:\n",
    "        x1 = d[0]\n",
    "        x2 = d[1]\n",
    "        t = d[2]\n",
    "        y_in = w1*x1 + w2*x2 + b\n",
    "        if y_in >= 0:\n",
    "            y_out = 1\n",
    "        else:\n",
    "            y_out = 0\n",
    "        print(\"Input:\", x1, x2, \"Output:\", y_out)\n",
    "data = [[0, 0, 0],\n",
    "        [0, 1, 0],\n",
    "        [1, 0, 0],\n",
    "        [1, 1, 1]]\n",
    "\n",
    "biner_in_out(data)"
   ]
  },
  {
   "cell_type": "code",
   "execution_count": 24,
   "metadata": {},
   "outputs": [
    {
     "name": "stdout",
     "output_type": "stream",
     "text": [
      "Input: 0 0 Output: -1\n",
      "Input: 0 1 Output: -1\n",
      "Input: 1 0 Output: -1\n",
      "Input: 1 1 Output: -1\n"
     ]
    }
   ],
   "source": [
    "def biner_in_bipolar_out(data):\n",
    "    # Inisialisasi bobot\n",
    "    w1 = 0\n",
    "    w2 = 0\n",
    "    b = 0\n",
    "\n",
    "    # Pelatihan jaringan\n",
    "    for d in data:\n",
    "        x1 = d[0]\n",
    "        x2 = d[1]\n",
    "        t = d[2]\n",
    "        delta_w1 = x1*t\n",
    "        delta_w2 = x2*t\n",
    "        delta_b = 1*t\n",
    "        w1 = w1 + delta_w1\n",
    "        w2 = w2 + delta_w2\n",
    "        b = b + delta_b\n",
    "\n",
    "    # Pengujian jaringan\n",
    "    for d in data:\n",
    "        x1 = d[0]\n",
    "        x2 = d[1]\n",
    "        t = d[2]\n",
    "        y_in = w1*x1 + w2*x2 + b\n",
    "        if y_in >= 0:\n",
    "            y_out = 1\n",
    "        else:\n",
    "            y_out = -1\n",
    "        print(\"Input:\", x1, x2, \"Output:\", y_out)\n",
    "data = [[0, 0, -1],\n",
    "        [0, 1, -1],\n",
    "        [1, 0, -1],\n",
    "        [1, 1, 1]]\n",
    "\n",
    "biner_in_bipolar_out(data)"
   ]
  },
  {
   "cell_type": "code",
   "execution_count": 25,
   "metadata": {},
   "outputs": [
    {
     "name": "stdout",
     "output_type": "stream",
     "text": [
      "Input: -1 -1 Output: -1\n",
      "Input: -1 1 Output: -1\n",
      "Input: 1 -1 Output: -1\n",
      "Input: 1 1 Output: 1\n"
     ]
    }
   ],
   "source": [
    "def bipolar_in_out(data):\n",
    "    # Inisialisasi bobot\n",
    "    w1 = 0\n",
    "    w2 = 0\n",
    "    b = 0\n",
    "\n",
    "    # Pelatihan jaringan\n",
    "    for d in data:\n",
    "        x1 = d[0]\n",
    "        x2 = d[1]\n",
    "        t = d[2]\n",
    "        delta_w1 = x1*t\n",
    "        delta_w2 = x2*t\n",
    "        delta_b = 1*t\n",
    "        w1 = w1 + delta_w1\n",
    "        w2 = w2 + delta_w2\n",
    "        b = b + delta_b\n",
    "\n",
    "    # Pengujian jaringan\n",
    "    for d in data:\n",
    "        x1 = d[0]\n",
    "        x2 = d[1]\n",
    "        t = d[2]\n",
    "        y_in = w1*x1 + w2*x2 + b\n",
    "        if y_in >= 0:\n",
    "            y_out = 1\n",
    "        else:\n",
    "            y_out = -1\n",
    "        print(\"Input:\", x1, x2, \"Output:\", y_out)\n",
    "data = [[-1, -1, -1],\n",
    "        [-1, 1, -1],\n",
    "        [1, -1, -1],\n",
    "        [1, 1, 1]]\n",
    "\n",
    "bipolar_in_out(data)"
   ]
  }
 ],
 "metadata": {
  "kernelspec": {
   "display_name": "Python 3",
   "language": "python",
   "name": "python3"
  },
  "language_info": {
   "codemirror_mode": {
    "name": "ipython",
    "version": 3
   },
   "file_extension": ".py",
   "mimetype": "text/x-python",
   "name": "python",
   "nbconvert_exporter": "python",
   "pygments_lexer": "ipython3",
   "version": "3.10.8"
  },
  "orig_nbformat": 4
 },
 "nbformat": 4,
 "nbformat_minor": 2
}
