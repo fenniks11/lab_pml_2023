{
 "cells": [
  {
   "cell_type": "markdown",
   "metadata": {},
   "source": [
    "# MCCulloch-Pitts Neuron Model"
   ]
  },
  {
   "cell_type": "markdown",
   "metadata": {},
   "source": [
    "1. Soal pertama Buatlah program Python yang mengimplementasikan model McCulloch-Pitts neuron dengan tiga input dan satu output. Program harus menerima input biner (0 atau 1) dan mengeluarkan output biner (0 atau 1) berdasarkan aturan McCulloch-Pitts neuron model.\n",
    "\n",
    "2. Soal kedua Buatlah program Python yang mengimplementasikan model McCulloch-Pitts neuron dengan empat input dan satu output. Program harus menerima input biner (0 atau 1) dan mengeluarkan output biner (0 atau 1) berdasarkan aturan McCulloch-Pitts neuron model.\n",
    "\n",
    "3. Soal ketiga Buatlah program Python yang mengimplementasikan model McCulloch-Pitts neuron dengan lima input dan satu output. Program harus menerima input biner (0 atau 1) dan mengeluarkan output biner (0 atau 1) berdasarkan aturan McCulloch-Pitts neuron model.\n",
    "\n",
    "4. Soal keempat Buatlah program Python yang mengimplementasikan model McCulloch-Pitts neuron dengan tiga input dan satu output. Dimana fungsi logika yang akan digunakan adalah NOT X1. Program harus menerima input biner (0 atau 1) dan mengeluarkan output biner (0 atau 1) berdasarkan aturan McCulloch-Pitts neuron model.\n",
    "\n",
    "5. Soal kelima Buatlah program Python yang mengimplementasikan model McCulloch-Pitts neuron dengan tiga input dan satu output. Dimana fungsi logika yang akan digunakan adalah NOT X2. Program harus menerima input biner (0 atau 1) dan mengeluarkan output biner (0 atau 1) berdasarkan aturan McCulloch-Pitts neuron model.\n",
    "\n",
    "6. Soal keenam Buatlah program Python yang mengimplementasikan model McCulloch-Pitts neuron dengan tiga input dan satu output. Dimana fungsi logika yang akan digunakan adalah NOT X3. Program harus menerima input biner (0 atau 1) dan mengeluarkan output biner (0 atau 1) berdasarkan aturan McCulloch-Pitts neuron model.\n",
    "\n",
    "7. Soal ketujuh Buatlah program Python yang mengimplementasikan model McCulloch-Pitts neuron dengan dua input dan satu output. Dimana fungsi logika yang akan digunakan adalah NOR. Program harus menerima input biner (0 atau 1) dan mengeluarkan output biner (0 atau 1) berdasarkan aturan McCulloch-Pitts neuron model.\n",
    "\n",
    "8. Soal kedelapan Buatlah program Python yang mengimplementasikan model McCulloch-Pitts neuron dengan tiga input dan satu output. Dimana fungsi logika yang akan digunakan adalah NOR. Program harus menerima input biner (0 atau 1) dan mengeluarkan output biner (0 atau 1) berdasarkan aturan McCulloch-Pitts neuron model.\n",
    "\n",
    "9. Soal kesembilan Buatlah program Python yang mengimplementasikan model McCulloch-Pitts neuron dengan empat input dan satu output. Dimana fungsi logika yang akan digunakan adalah NOR. Program harus menerima input biner (0 atau 1) dan mengeluarkan output biner (0 atau 1) berdasarkan aturan McCulloch-Pitts neuron model.\n",
    "\n",
    "10. Soal kesepuluh Buatlah program Python yang mengimplementasikan model McCulloch-Pitts neuron dengan dua input dan satu output. Dimana fungsi logika yang akan digunakan adalah NAND. Program harus menerima input biner (0 atau 1) dan mengeluarkan output biner (0 atau 1) berdasarkan aturan McCulloch-Pitts neuron model.\n",
    "\n",
    "11. Soal kesebelas Buatlah program Python yang mengimplementasikan model McCulloch-Pitts neuron dengan tiga input dan satu output. Dimana fungsi logika yang akan digunakan adalah NAND. Program harus menerima input biner (0 atau 1) dan mengeluarkan output biner (0 atau 1) berdasarkan aturan McCulloch-Pitts neuron model.\n",
    "\n",
    "12. Soal keduabelas Buatlah program Python yang mengimplementasikan model McCulloch-Pitts neuron dengan empat input dan satu output. Dimana fungsi logika yang akan digunakan adalah NAND. Program harus menerima input biner (0 atau 1) dan mengeluarkan output biner (0 atau 1) berdasarkan aturan McCulloch-Pitts neuron model.\n",
    "\n",
    "13. Soal ketigabelas Buatlah program Python yang mengimplementasikan model McCulloch-Pitts neuron dengan tiga input dan satu output. Dimana fungsi logika yang akan digunakan adalah AND. Program harus menerima input biner (0 atau 1) dan mengeluarkan output biner (0 atau 1) berdasarkan aturan McCulloch-Pitts neuron model.\n",
    "\n",
    "14. Soal keempatbelas Buatlah program Python yang mengimplementasikan model McCulloch-Pitts neuron dengan empat input dan satu output. Dimana fungsi logika yang akan digunakan adalah AND. Program harus menerima input biner (0 atau 1) dan mengeluarkan output biner (0 atau 1) berdasarkan aturan McCulloch-Pitts neuron model.\n",
    "\n",
    "15. Soal ketigabelas Buatlah program Python yang mengimplementasikan model McCulloch-Pitts neuron dengan tiga input dan satu output. Dimana fungsi logika yang akan digunakan adalah OR. Program harus menerima input biner (0 atau 1) dan mengeluarkan output biner (0 atau 1) berdasarkan aturan McCulloch-Pitts neuron model.\n",
    "\n",
    "15. Soal keempatbelas Buatlah program Python yang mengimplementasikan model McCulloch-Pitts neuron dengan empat input dan satu output. Dimana fungsi logika yang akan digunakan adalah OR. Program harus menerima input biner (0 atau 1) dan mengeluarkan output biner (0 atau 1) berdasarkan aturan McCulloch-Pitts neuron model."
   ]
  },
  {
   "cell_type": "markdown",
   "metadata": {},
   "source": [
    "# Hebb Rule"
   ]
  },
  {
   "cell_type": "markdown",
   "metadata": {},
   "source": [
    "1. Buatlah jaringan Hebb untuk menyatakan fungsi logika OR jika representasi yang dipakai adalah\n",
    "\n",
    "- Masukan dan keluaran biner\n",
    "- Masukan biner dan keluaran bipolar\n",
    "- Masukan dan keluaran bipolar\n",
    "\n",
    "2. Buatlah jaringan Hebb untuk menyatakan fungsi logika NOR jika representasi yang dipakai adalah\n",
    "\n",
    "- Masukan dan keluaran biner\n",
    "- Masukan biner dan keluaran bipolar\n",
    "- Masukan dan keluaran bipolar\n",
    "\n",
    "3. Buatlah jaringan Hebb untuk menyatakan fungsi logika NAND jika representasi yang dipakai adalah\n",
    "\n",
    "- Masukan dan keluaran biner\n",
    "- Masukan biner dan keluaran bipolar\n",
    "- Masukan dan keluaran bipolar"
   ]
  }
 ],
 "metadata": {
  "kernelspec": {
   "display_name": "Python 3",
   "language": "python",
   "name": "python3"
  },
  "language_info": {
   "codemirror_mode": {
    "name": "ipython",
    "version": 3
   },
   "file_extension": ".py",
   "mimetype": "text/x-python",
   "name": "python",
   "nbconvert_exporter": "python",
   "pygments_lexer": "ipython3",
   "version": "3.10.8"
  },
  "orig_nbformat": 4
 },
 "nbformat": 4,
 "nbformat_minor": 2
}
