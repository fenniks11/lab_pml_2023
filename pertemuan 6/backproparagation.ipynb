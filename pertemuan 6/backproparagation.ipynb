{
 "cells": [
  {
   "cell_type": "markdown",
   "metadata": {},
   "source": [
    "# Implementasi Backpropagation \n",
    "## Kasus 2"
   ]
  },
  {
   "cell_type": "code",
   "execution_count": 79,
   "metadata": {},
   "outputs": [],
   "source": [
    "# Library komputasi numerik\n",
    "import numpy as np"
   ]
  },
  {
   "cell_type": "code",
   "execution_count": 80,
   "metadata": {},
   "outputs": [],
   "source": [
    "# Nilai input\n",
    "x1=0.1\n",
    "x2=0.4"
   ]
  },
  {
   "cell_type": "code",
   "execution_count": 81,
   "metadata": {},
   "outputs": [],
   "source": [
    "# Nilai output seharusnya(desired)\n",
    "target = 0.7"
   ]
  },
  {
   "cell_type": "code",
   "execution_count": 82,
   "metadata": {},
   "outputs": [],
   "source": [
    "# Nilai learning rate\n",
    "learning_rate = 0.01"
   ]
  },
  {
   "cell_type": "code",
   "execution_count": 83,
   "metadata": {},
   "outputs": [
    {
     "name": "stdout",
     "output_type": "stream",
     "text": [
      "Initial W :  0.4891888055450101 0.5902890924812337\n"
     ]
    }
   ],
   "source": [
    "# Penentuan nilai bobot secara acak\n",
    "w1=np.random.rand()\n",
    "w2=np.random.rand()\n",
    "print(\"Initial W : \", w1, w2)"
   ]
  },
  {
   "cell_type": "code",
   "execution_count": 84,
   "metadata": {},
   "outputs": [],
   "source": [
    "# List kosong yang menyimpan nilai output prediksi\n",
    "predicted_output = []\n",
    "\n",
    "# List kosong yang menyimpan nilai error\n",
    "network_error = []\n"
   ]
  },
  {
   "cell_type": "markdown",
   "metadata": {},
   "source": [
    "## Penjelasan dari Semua Fungsi\n",
    "\n",
    "1) Sigmoid():  \n",
    "Fungsi sigmoid digunakan untuk mengonversi nilai menjadi rentang antara 0 dan 1 untuk menginterpretasikan nilai output.  \n",
    "\n",
    "2) error():  \n",
    "Fungsi ini mengembalikan nilai error.  \n",
    "\n",
    "3) error_predicted_deriv():  \n",
    "Menghitung turunan(determinan) dari error terhadap output.  \n",
    "\n",
    "4) sigmoid_sop_deriv():  \n",
    "Menghitung turunan(determinan) dari fungsi sigmoid terhadap jumlah dari SOP(um of Products). SOP maksudnya adalah rumus perhitungan net(sigma Xi.Wi+b).  \n",
    "\n",
    "5) sop_w_deriv():  \n",
    "Menghitung turunan(determinan) dari SOP terhadap bobot(W).  \n",
    "\n",
    "6) update_w():\n",
    "Fungsi ini melakukan pembaruan terhadap satu bobot (weight) berdasarkan gradien turun dan laju pembelajaran(learning rate)."
   ]
  },
  {
   "cell_type": "code",
   "execution_count": 85,
   "metadata": {},
   "outputs": [],
   "source": [
    "def sigmoid(sop):\n",
    "    return 1.0/(1+np.exp(-1*sop))\n",
    "\n",
    "def error(predicted, target):\n",
    "    return np.power(predicted-target, 2)\n",
    "\n",
    "def error_predicted_deriv(predicted, target):\n",
    "    return 2*(predicted-target)\n",
    "\n",
    "def sigmoid_sop_deriv(sop):\n",
    "    return sigmoid(sop)*(1.0-sigmoid(sop))\n",
    "\n",
    "def sop_w_deriv(x):\n",
    "    return x\n",
    "\n",
    "def update_w(w, grad, learning_rate):\n",
    "    return w - learning_rate*grad"
   ]
  },
  {
   "cell_type": "code",
   "execution_count": 86,
   "metadata": {},
   "outputs": [],
   "source": [
    "# Set epoch = 80000\n",
    "for k in range(80000):\n",
    "    # Forward Pass\n",
    "    y = w1*x1 + w2*x2\n",
    "    predicted = sigmoid(y)\n",
    "    err = error(predicted, target)\n",
    "\n",
    "    predicted_output.append(predicted)\n",
    "    network_error.append(err)\n",
    "\n",
    "    # Backward Pass\n",
    "    g1 = error_predicted_deriv(predicted, target)\n",
    "\n",
    "    g2 = sigmoid_sop_deriv(y)\n",
    "\n",
    "    g3w1 = sop_w_deriv(x1)\n",
    "    g3w2 = sop_w_deriv(x2)\n",
    "\n",
    "    gradw1 = g3w1*g2*g1\n",
    "    gradw2 = g3w2*g2*g1\n",
    "\n",
    "    w1 = update_w(w1, gradw1, learning_rate)\n",
    "    w2 = update_w(w2, gradw2, learning_rate)"
   ]
  },
  {
   "cell_type": "markdown",
   "metadata": {},
   "source": [
    "## Forward and backward passes in Neural Networks\n",
    "### Tahapan dalam *forward* dan *backward passes* dalam *Neural Networks* adalah sebagai berikut:  \n",
    "1) Forward pass: input dipropagasi dari input layer ke output layer.  \n",
    "2) Hitung total error\n",
    "3) Backward pass: error dipropagasi dari lapisan output kembali ke lapisan input.  \n",
    "\n",
    "![Forward and backward passes in Neural Networks](https://i0.wp.com/neptune.ai/wp-content/uploads/2022/10/Backpropagation-passes-architecture.png?resize=434%2C414&ssl=1)"
   ]
  },
  {
   "cell_type": "markdown",
   "metadata": {},
   "source": [
    "## Forward Pass"
   ]
  },
  {
   "cell_type": "markdown",
   "metadata": {},
   "source": [
    "**Keterangan:**  \n",
    "Dalam langkah \"forward pass\" (proses maju) dari suatu model jaringan saraf, baris-baris berikut dieksekusi untuk menghitung SOP (Sum of Products), menerapkan fungsi aktivasi sigmoid untuk mendapatkan output prediksi, dan menghitung kesalahan. Hasil prediksi dan kesalahan ini kemudian ditambahkan ke dalam daftar `predicted_output` dan `network_error`."
   ]
  },
  {
   "cell_type": "code",
   "execution_count": 87,
   "metadata": {},
   "outputs": [],
   "source": [
    "y = w1*x1 + w2*x2\n",
    "predicted = sigmoid(y)\n",
    "err = error(predicted, target)\n",
    "\n",
    "predicted_output.append(predicted)\n",
    "network_error.append(err)"
   ]
  },
  {
   "cell_type": "markdown",
   "metadata": {},
   "source": [
    "## Backward Pass (Chain Rule)\n",
    "### Proses langkah mundur dengan menggunakan aturan chain rule\n",
    "![Alt Text](https://i0.wp.com/neptune.ai/wp-content/uploads/2022/10/Backpropagation-prediction.png?ssl=1)"
   ]
  },
  {
   "cell_type": "markdown",
   "metadata": {},
   "source": [
    "**Keterangan:**  \n",
    "Dalam langkah \"backward pass\" dari suatu model jaringan saraf, baris-baris yang tersisa dalam loop \"for\" dieksekusi untuk menghitung turunan dalam semua rantai. Turunan kesalahan terhadap bobot disimpan dalam variabel `gradw1 dan `gradw2`. Terakhir, bobot diperbarui dengan memanggil fungsi `update_w()`."
   ]
  },
  {
   "cell_type": "code",
   "execution_count": 88,
   "metadata": {},
   "outputs": [
    {
     "name": "stdout",
     "output_type": "stream",
     "text": [
      "0.6999994460861089\n"
     ]
    }
   ],
   "source": [
    "# Cetak prediksi\n",
    "print(predicted)"
   ]
  },
  {
   "cell_type": "code",
   "execution_count": 92,
   "metadata": {},
   "outputs": [
    {
     "name": "stdout",
     "output_type": "stream",
     "text": [
      "3.0682059874043116e-13\n"
     ]
    }
   ],
   "source": [
    "print(err)\n",
    "# error = 3.0682059874043116e-13 \n",
    "# sama dengan 3.0682059874043116*10^-13\n",
    "# sama dengan = 0.00000000000030682059874043116"
   ]
  },
  {
   "cell_type": "markdown",
   "metadata": {},
   "source": [
    "## Visualisasi"
   ]
  },
  {
   "cell_type": "code",
   "execution_count": 90,
   "metadata": {},
   "outputs": [
    {
     "data": {
      "text/plain": [
       "Text(0, 0.5, 'Prediction')"
      ]
     },
     "execution_count": 90,
     "metadata": {},
     "output_type": "execute_result"
    },
    {
     "data": {
      "image/png": "[encoded data removed]",
      "text/plain": [
       "<Figure size 432x288 with 1 Axes>"
      ]
     },
     "metadata": {
      "needs_background": "light"
     },
     "output_type": "display_data"
    },
    {
     "data": {
      "image/png": "[encoded data removed]",
      "text/plain": [
       "<Figure size 432x288 with 1 Axes>"
      ]
     },
     "metadata": {
      "needs_background": "light"
     },
     "output_type": "display_data"
    }
   ],
   "source": [
    "import matplotlib.pyplot\n",
    "matplotlib.pyplot.figure()\n",
    "matplotlib.pyplot.plot(network_error)\n",
    "matplotlib.pyplot.title(\"Nomor Iterasi vs Error\")\n",
    "matplotlib.pyplot.xlabel(\"Iteration Number\")\n",
    "matplotlib.pyplot.ylabel(\"Error\")\n",
    "\n",
    "matplotlib.pyplot.figure()\n",
    "matplotlib.pyplot.plot(predicted_output)\n",
    "matplotlib.pyplot.title(\"Iteration Number vs Prediction\")\n",
    "matplotlib.pyplot.xlabel(\"Iteration Number\")\n",
    "matplotlib.pyplot.ylabel(\"Prediction\")"
   ]
  },
  {
   "cell_type": "markdown",
   "metadata": {},
   "source": [
    "## Kasus 2\n",
    "### Contoh training.\n",
    "| No.      | Tidur | Belajar  | Perkiraan % pada Ujian |\n",
    "|---------|-------|----------|------------------------|\n",
    "| 1       | 2     | 9        | 92                     |\n",
    "| 2       | 1     | 5        | 86                     |\n",
    "| 3       | 3     | 6        | 89                     |\n"
   ]
  },
  {
   "cell_type": "markdown",
   "metadata": {},
   "source": [
    "Pada tabel di atas terdapat 3 nilai input dengan 2 fitur dan 1 output.  \n",
    "Mis. Input no.1, input = [tidur = 2, belajar = 9], output = 92.   \n",
    "\n",
    "Buatlah jaringan syaraf tiruan dengan konsep **Multi Layer Perceptron** menggunakan model **backpropagation**."
   ]
  },
  {
   "cell_type": "markdown",
   "metadata": {},
   "source": [
    "### Langkah pertama adalah menormalisasi input.\n",
    "Dilakukan dengan cara membagi input dengan nilai terbanyak yang ada diseluruh baris data per kolomnya.\n",
    "| No | Tidur                  | Belajar                | Perkiraan % dalam Ujian  |\n",
    "|----|------------------------|------------------------|--------------------------|\n",
    "| 1  | 2/3 = 0.66666667       | 9/9 = 1                | 0.92                     |\n",
    "| 2  | 1/3 = 0.33333333       | 5/9 = 0.55555556       | 0.86                     |\n",
    "| 3  | 3/3 = 1                | 6/9 = 0.66666667       | 0.89                     |\n",
    "\n"
   ]
  },
  {
   "cell_type": "markdown",
   "metadata": {},
   "source": [
    "### Langkah kedua: membangun model MLP"
   ]
  },
  {
   "cell_type": "code",
   "execution_count": 93,
   "metadata": {},
   "outputs": [],
   "source": [
    "X = np.array(([2, 9], [1, 5], [3, 6]), dtype=float)\n",
    "y = np.array(([92], [86], [89]), dtype=float)\n",
    "X = X/np.amax(X,axis=0) #maximum of X array longitudinally\n",
    "y = y/100"
   ]
  },
  {
   "cell_type": "code",
   "execution_count": 94,
   "metadata": {},
   "outputs": [],
   "source": [
    "#Fungsi sigmoid\n",
    "def sigmoid (x):\n",
    "    return 1/(1 + np.exp(-x))\n",
    "\n",
    "#Derivative of Sigmoid Function\n",
    "def derivatives_sigmoid(x):\n",
    "    return x * (1 - x)"
   ]
  },
  {
   "cell_type": "code",
   "execution_count": 96,
   "metadata": {},
   "outputs": [],
   "source": [
    "#Inisialisasi Variabel\n",
    "epoch=5 #Setting iterasi training \n",
    "lr=0.1 #Setting learning rate"
   ]
  },
  {
   "cell_type": "code",
   "execution_count": 97,
   "metadata": {},
   "outputs": [],
   "source": [
    "# Model Arsitektur MLP\n",
    "inputlayer_neurons = 2 #jumlah fitur input dalam dataset\n",
    "hiddenlayer_neurons = 3 #jumlah neuron dari lapisan tersembunyi(hidden layers)\n",
    "output_neurons = 1 #jumlah neuron di output layer"
   ]
  },
  {
   "cell_type": "code",
   "execution_count": 98,
   "metadata": {},
   "outputs": [],
   "source": [
    "# Inisialisasi nilai bias dan bobot\n",
    "# bobot hidden layer (wh)\n",
    "wh=np.random.uniform(size=(inputlayer_neurons,hiddenlayer_neurons))\n",
    "# bias hidden layer (bh)\n",
    "bh=np.random.uniform(size=(1,hiddenlayer_neurons))\n",
    "# bobot output layer (wh)\n",
    "wout=np.random.uniform(size=(hiddenlayer_neurons,output_neurons))\n",
    "# bias output layer (bh)\n",
    "bout=np.random.uniform(size=(1,output_neurons))"
   ]
  },
  {
   "cell_type": "markdown",
   "metadata": {},
   "source": [
    "### Langkah ketiga: forward pass dan backward pass"
   ]
  },
  {
   "cell_type": "code",
   "execution_count": 109,
   "metadata": {},
   "outputs": [],
   "source": [
    "from IPython.display import display, clear_output\n",
    "import matplotlib.pyplot as plt"
   ]
  },
  {
   "cell_type": "code",
   "execution_count": 113,
   "metadata": {},
   "outputs": [
    {
     "name": "stdout",
     "output_type": "stream",
     "text": [
      "-----------Epoch 1 Starts-----------\n",
      "Input:\n",
      " [[0.66666667 1.        ]\n",
      " [0.33333333 0.55555556]\n",
      " [1.         0.66666667]]\n",
      "Actual Output:\n",
      " [[0.92]\n",
      " [0.86]\n",
      " [0.89]]\n",
      "Predicted Output:\n",
      " [[0.90051717]\n",
      " [0.88858031]\n",
      " [0.89922141]]\n",
      "Error Output:\n",
      " [[ 0.01948283]\n",
      " [-0.02858031]\n",
      " [-0.00922141]]\n",
      "-----------Epoch 1 Ends-----------\n",
      "\n",
      "-----------Epoch 2 Starts-----------\n",
      "Input:\n",
      " [[0.66666667 1.        ]\n",
      " [0.33333333 0.55555556]\n",
      " [1.         0.66666667]]\n",
      "Actual Output:\n",
      " [[0.92]\n",
      " [0.86]\n",
      " [0.89]]\n",
      "Predicted Output:\n",
      " [[0.90048648]\n",
      " [0.88854978]\n",
      " [0.89919067]]\n",
      "Error Output:\n",
      " [[ 0.01951352]\n",
      " [-0.02854978]\n",
      " [-0.00919067]]\n",
      "-----------Epoch 2 Ends-----------\n",
      "\n",
      "-----------Epoch 3 Starts-----------\n",
      "Input:\n",
      " [[0.66666667 1.        ]\n",
      " [0.33333333 0.55555556]\n",
      " [1.         0.66666667]]\n",
      "Actual Output:\n",
      " [[0.92]\n",
      " [0.86]\n",
      " [0.89]]\n",
      "Predicted Output:\n",
      " [[0.90045594]\n",
      " [0.8885194 ]\n",
      " [0.89916008]]\n",
      "Error Output:\n",
      " [[ 0.01954406]\n",
      " [-0.0285194 ]\n",
      " [-0.00916008]]\n",
      "-----------Epoch 3 Ends-----------\n",
      "\n",
      "-----------Epoch 4 Starts-----------\n",
      "Input:\n",
      " [[0.66666667 1.        ]\n",
      " [0.33333333 0.55555556]\n",
      " [1.         0.66666667]]\n",
      "Actual Output:\n",
      " [[0.92]\n",
      " [0.86]\n",
      " [0.89]]\n",
      "Predicted Output:\n",
      " [[0.90042553]\n",
      " [0.88848915]\n",
      " [0.89912962]]\n",
      "Error Output:\n",
      " [[ 0.01957447]\n",
      " [-0.02848915]\n",
      " [-0.00912962]]\n",
      "-----------Epoch 4 Ends-----------\n",
      "\n",
      "-----------Epoch 5 Starts-----------\n",
      "Input:\n",
      " [[0.66666667 1.        ]\n",
      " [0.33333333 0.55555556]\n",
      " [1.         0.66666667]]\n",
      "Actual Output:\n",
      " [[0.92]\n",
      " [0.86]\n",
      " [0.89]]\n",
      "Predicted Output:\n",
      " [[0.90039526]\n",
      " [0.88845905]\n",
      " [0.89909931]]\n",
      "Error Output:\n",
      " [[ 0.01960474]\n",
      " [-0.02845905]\n",
      " [-0.00909931]]\n",
      "-----------Epoch 5 Ends-----------\n",
      "\n"
     ]
    }
   ],
   "source": [
    "for i in range(epoch):  # Looping sebanyak epoch yg ditentukan\n",
    "    # Forward Propagation\n",
    "    hidden_layer_input = np.dot(X, wh)  # Menghitung net di hidden layer (sigma xw).\n",
    "    hidden_layer_input_with_bias = hidden_layer_input + bh  # Menambahkan bias hidden layer ke hasil sebelumnya.\n",
    "    # hinp adalah nilai net dari sigma (X.W)+b\n",
    "    hidden_layer_activation = sigmoid(hidden_layer_input_with_bias)  # Masukkan ke fungsi aktivasi\n",
    "    output_layer_input = np.dot(hidden_layer_activation, wout)  # Hitung net di output layer\n",
    "    output_layer_input_with_bias = output_layer_input + bout  # Menambahkan bias output layer ke hasil sebelumnya.\n",
    "    # output adalah nilai output prediksi\n",
    "    output = sigmoid(output_layer_input_with_bias)  # masukkan ke fungsi aktivasi\n",
    "\n",
    "    # Backpropagation\n",
    "    error_output = y - output  # Hitung Error\n",
    "    output_gradient = derivatives_sigmoid(output)  # Hitung turunan parsial dari sigmoid\n",
    "    delta_output = error_output * output_gradient\n",
    "    error_hidden = delta_output.dot(wout.T)\n",
    "    hidden_layer_gradient = derivatives_sigmoid(hidden_layer_activation)\n",
    "    delta_hidden_layer = error_hidden * hidden_layer_gradient\n",
    "\n",
    "    wout += hidden_layer_activation.T.dot(delta_output) * lr   # dot product of next layer error and current layer output\n",
    "    wh += X.T.dot(delta_hidden_layer) * lr\n",
    "\n",
    "    # Display the error_output value\n",
    "    print(f\"-----------Epoch {i+1} Starts-----------\")\n",
    "    print(\"Input:\\n\", X)\n",
    "    print(\"Actual Output:\\n\", y)\n",
    "    print(\"Predicted Output:\\n\", output)\n",
    "    print(\"Error Output:\\n\", error_output)  # Added line to display error_output\n",
    "    print(f\"-----------Epoch {i+1} Ends-----------\\n\")\n"
   ]
  },
  {
   "cell_type": "code",
   "execution_count": 112,
   "metadata": {},
   "outputs": [
    {
     "name": "stdout",
     "output_type": "stream",
     "text": [
      "Input: \n",
      "[[0.66666667 1.        ]\n",
      " [0.33333333 0.55555556]\n",
      " [1.         0.66666667]]\n",
      "Actual Output: \n",
      "[[0.92]\n",
      " [0.86]\n",
      " [0.89]]\n",
      "Predicted Output: \n",
      " [[0.900548  ]\n",
      " [0.88861097]\n",
      " [0.89925229]]\n"
     ]
    }
   ],
   "source": [
    "print(\"Input: \\n\" + str(X)) \n",
    "print(\"Actual Output: \\n\" + str(y))\n",
    "print(\"Predicted Output: \\n\" ,output)"
   ]
  },
  {
   "cell_type": "code",
   "execution_count": null,
   "metadata": {},
   "outputs": [],
   "source": []
  }
 ],
 "metadata": {
  "kernelspec": {
   "display_name": "Python 3",
   "language": "python",
   "name": "python3"
  },
  "language_info": {
   "codemirror_mode": {
    "name": "ipython",
    "version": 3
   },
   "file_extension": ".py",
   "mimetype": "text/x-python",
   "name": "python",
   "nbconvert_exporter": "python",
   "pygments_lexer": "ipython3",
   "version": "3.10.8"
  }
 },
 "nbformat": 4,
 "nbformat_minor": 2
}
